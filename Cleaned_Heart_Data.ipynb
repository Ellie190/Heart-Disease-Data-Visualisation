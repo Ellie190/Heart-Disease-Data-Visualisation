{
 "cells": [
  {
   "cell_type": "markdown",
   "metadata": {
    "toc": true
   },
   "source": [
    "<h1>Table of Contents<span class=\"tocSkip\"></span></h1>\n",
    "<div class=\"toc\"><ul class=\"toc-item\"></ul></div>"
   ]
  },
  {
   "cell_type": "code",
   "execution_count": 1,
   "metadata": {
    "ExecuteTime": {
     "end_time": "2021-08-09T19:14:15.195942Z",
     "start_time": "2021-08-09T19:14:14.613496Z"
    }
   },
   "outputs": [],
   "source": [
    "import numpy as np # for high-level mathematical functions to operate on arrays.\n",
    "import pandas as pd # for data manipulation and analysis"
   ]
  },
  {
   "cell_type": "code",
   "execution_count": 2,
   "metadata": {
    "ExecuteTime": {
     "end_time": "2021-08-09T19:14:15.662492Z",
     "start_time": "2021-08-09T19:14:15.653698Z"
    }
   },
   "outputs": [],
   "source": [
    "data = pd.read_csv('Heart.csv', sep = \";\")"
   ]
  },
  {
   "cell_type": "code",
   "execution_count": 3,
   "metadata": {
    "ExecuteTime": {
     "end_time": "2021-08-09T19:14:16.457927Z",
     "start_time": "2021-08-09T19:14:16.434281Z"
    }
   },
   "outputs": [
    {
     "data": {
      "text/html": [
       "<div>\n",
       "<style scoped>\n",
       "    .dataframe tbody tr th:only-of-type {\n",
       "        vertical-align: middle;\n",
       "    }\n",
       "\n",
       "    .dataframe tbody tr th {\n",
       "        vertical-align: top;\n",
       "    }\n",
       "\n",
       "    .dataframe thead th {\n",
       "        text-align: right;\n",
       "    }\n",
       "</style>\n",
       "<table border=\"1\" class=\"dataframe\">\n",
       "  <thead>\n",
       "    <tr style=\"text-align: right;\">\n",
       "      <th></th>\n",
       "      <th>age</th>\n",
       "      <th>sex</th>\n",
       "      <th>cp</th>\n",
       "      <th>trestbps</th>\n",
       "      <th>chol</th>\n",
       "      <th>fbs</th>\n",
       "      <th>restecg</th>\n",
       "      <th>thalach</th>\n",
       "      <th>exang</th>\n",
       "      <th>oldpeak</th>\n",
       "      <th>slope</th>\n",
       "      <th>ca</th>\n",
       "      <th>thal</th>\n",
       "      <th>target</th>\n",
       "    </tr>\n",
       "  </thead>\n",
       "  <tbody>\n",
       "    <tr>\n",
       "      <th>164</th>\n",
       "      <td>38</td>\n",
       "      <td>1</td>\n",
       "      <td>2</td>\n",
       "      <td>138</td>\n",
       "      <td>175</td>\n",
       "      <td>0</td>\n",
       "      <td>1</td>\n",
       "      <td>173</td>\n",
       "      <td>0</td>\n",
       "      <td>0.0</td>\n",
       "      <td>2</td>\n",
       "      <td>4</td>\n",
       "      <td>2</td>\n",
       "      <td>1</td>\n",
       "    </tr>\n",
       "  </tbody>\n",
       "</table>\n",
       "</div>"
      ],
      "text/plain": [
       "     age  sex  cp  trestbps  chol  fbs  restecg  thalach  exang  oldpeak  \\\n",
       "164   38    1   2       138   175    0        1      173      0      0.0   \n",
       "\n",
       "     slope  ca  thal  target  \n",
       "164      2   4     2       1  "
      ]
     },
     "execution_count": 3,
     "metadata": {},
     "output_type": "execute_result"
    }
   ],
   "source": [
    "# Checking for duplicates\n",
    "duplicate_data = data[data.duplicated()]\n",
    "duplicate_data"
   ]
  },
  {
   "cell_type": "code",
   "execution_count": 4,
   "metadata": {
    "ExecuteTime": {
     "end_time": "2021-08-09T19:14:16.981403Z",
     "start_time": "2021-08-09T19:14:16.971430Z"
    }
   },
   "outputs": [
    {
     "data": {
      "text/plain": [
       "1"
      ]
     },
     "execution_count": 4,
     "metadata": {},
     "output_type": "execute_result"
    }
   ],
   "source": [
    "# Counting the number of duplicate values \n",
    "data.duplicated().sum()"
   ]
  },
  {
   "cell_type": "code",
   "execution_count": 5,
   "metadata": {
    "ExecuteTime": {
     "end_time": "2021-08-09T19:14:17.413398Z",
     "start_time": "2021-08-09T19:14:17.408424Z"
    }
   },
   "outputs": [
    {
     "data": {
      "text/plain": [
       "303"
      ]
     },
     "execution_count": 5,
     "metadata": {},
     "output_type": "execute_result"
    }
   ],
   "source": [
    "# Data set length before removing duplicates\n",
    "len(data)"
   ]
  },
  {
   "cell_type": "code",
   "execution_count": 6,
   "metadata": {
    "ExecuteTime": {
     "end_time": "2021-08-09T19:14:17.875510Z",
     "start_time": "2021-08-09T19:14:17.868439Z"
    }
   },
   "outputs": [],
   "source": [
    "# Removing duplicate data \n",
    "data.drop_duplicates(keep='first', inplace=True)"
   ]
  },
  {
   "cell_type": "code",
   "execution_count": 7,
   "metadata": {
    "ExecuteTime": {
     "end_time": "2021-08-09T19:14:18.311745Z",
     "start_time": "2021-08-09T19:14:18.306280Z"
    }
   },
   "outputs": [
    {
     "data": {
      "text/plain": [
       "302"
      ]
     },
     "execution_count": 7,
     "metadata": {},
     "output_type": "execute_result"
    }
   ],
   "source": [
    "# Data set length after removing duplicates\n",
    "len(data)"
   ]
  },
  {
   "cell_type": "code",
   "execution_count": 8,
   "metadata": {
    "ExecuteTime": {
     "end_time": "2021-08-09T19:14:19.502908Z",
     "start_time": "2021-08-09T19:14:18.721508Z"
    }
   },
   "outputs": [
    {
     "data": {
      "text/html": [
       "<div>\n",
       "<style scoped>\n",
       "    .dataframe tbody tr th:only-of-type {\n",
       "        vertical-align: middle;\n",
       "    }\n",
       "\n",
       "    .dataframe tbody tr th {\n",
       "        vertical-align: top;\n",
       "    }\n",
       "\n",
       "    .dataframe thead th {\n",
       "        text-align: right;\n",
       "    }\n",
       "</style>\n",
       "<table border=\"1\" class=\"dataframe\">\n",
       "  <thead>\n",
       "    <tr style=\"text-align: right;\">\n",
       "      <th></th>\n",
       "      <th>age</th>\n",
       "      <th>sex</th>\n",
       "      <th>cp</th>\n",
       "      <th>trestbps</th>\n",
       "      <th>chol</th>\n",
       "      <th>fbs</th>\n",
       "      <th>restecg</th>\n",
       "      <th>thalach</th>\n",
       "      <th>exang</th>\n",
       "      <th>oldpeak</th>\n",
       "      <th>slope</th>\n",
       "      <th>ca</th>\n",
       "      <th>thal</th>\n",
       "      <th>target</th>\n",
       "    </tr>\n",
       "  </thead>\n",
       "  <tbody>\n",
       "  </tbody>\n",
       "</table>\n",
       "</div>"
      ],
      "text/plain": [
       "Empty DataFrame\n",
       "Columns: [age, sex, cp, trestbps, chol, fbs, restecg, thalach, exang, oldpeak, slope, ca, thal, target]\n",
       "Index: []"
      ]
     },
     "execution_count": 8,
     "metadata": {},
     "output_type": "execute_result"
    }
   ],
   "source": [
    "# double checking for duplicates \n",
    "duplicate_data = data[data.duplicated()]\n",
    "duplicate_data"
   ]
  },
  {
   "cell_type": "code",
   "execution_count": 9,
   "metadata": {
    "ExecuteTime": {
     "end_time": "2021-08-09T19:14:20.213880Z",
     "start_time": "2021-08-09T19:14:19.503906Z"
    }
   },
   "outputs": [
    {
     "data": {
      "text/plain": [
       "0"
      ]
     },
     "execution_count": 9,
     "metadata": {},
     "output_type": "execute_result"
    }
   ],
   "source": [
    "# Counting the number of duplicate values \n",
    "data.duplicated().sum()"
   ]
  },
  {
   "cell_type": "code",
   "execution_count": 10,
   "metadata": {
    "ExecuteTime": {
     "end_time": "2021-08-09T19:14:21.139328Z",
     "start_time": "2021-08-09T19:14:20.215876Z"
    }
   },
   "outputs": [
    {
     "data": {
      "text/plain": [
       "target      0.0\n",
       "thal        0.0\n",
       "ca          0.0\n",
       "slope       0.0\n",
       "oldpeak     0.0\n",
       "exang       0.0\n",
       "thalach     0.0\n",
       "restecg     0.0\n",
       "fbs         0.0\n",
       "chol        0.0\n",
       "trestbps    0.0\n",
       "cp          0.0\n",
       "sex         0.0\n",
       "age         0.0\n",
       "dtype: float64"
      ]
     },
     "execution_count": 10,
     "metadata": {},
     "output_type": "execute_result"
    }
   ],
   "source": [
    "# Percentage of missing values\n",
    "(data.isnull().sum() * 100 / data.shape[0]).sort_values(ascending=False)"
   ]
  },
  {
   "cell_type": "code",
   "execution_count": 11,
   "metadata": {
    "ExecuteTime": {
     "end_time": "2021-08-09T19:14:21.416947Z",
     "start_time": "2021-08-09T19:14:21.140293Z"
    }
   },
   "outputs": [],
   "source": [
    "# Encode categorical columns with categories for data visualisation understanding \n",
    "data = data.replace({'sex': {0 : 'Female', 1: 'Male'},\n",
    "                              'cp': {0 : 'Typical angina', 1: 'Atypical angina',\n",
    "                                     2: 'Non-anginal pain', 3: 'Asymptomatic'},\n",
    "                              'fbs': {0 : 'No', 1: 'Yes'},\n",
    "                              'restecg': {0 : 'Normal', 1: 'Abnormal', 2: 'Ventricular hypertrophy'},\n",
    "                              'exang': {0 : 'No', 1: 'Yes'},\n",
    "                              'slope': {0 : 'Upsloping', 1: 'Flat', 2: 'Downsloping'},\n",
    "                              'ca': {0 : 'Mild', 1: 'Moderate', 2: 'Mild Severe',\n",
    "                                     3: 'Moderate Severe', 4: 'Extreme Severe'},\n",
    "                              'thal': {0 : 'Normal', 1: 'Fixed defect', 2: 'Reversible defect',\n",
    "                                       3: 'Extra Defect'},\n",
    "                              'target': {0 : 'No', 1: 'Yes'}})"
   ]
  },
  {
   "cell_type": "code",
   "execution_count": 12,
   "metadata": {
    "ExecuteTime": {
     "end_time": "2021-08-09T19:14:22.270554Z",
     "start_time": "2021-08-09T19:14:22.186153Z"
    }
   },
   "outputs": [
    {
     "data": {
      "text/html": [
       "<div>\n",
       "<style scoped>\n",
       "    .dataframe tbody tr th:only-of-type {\n",
       "        vertical-align: middle;\n",
       "    }\n",
       "\n",
       "    .dataframe tbody tr th {\n",
       "        vertical-align: top;\n",
       "    }\n",
       "\n",
       "    .dataframe thead th {\n",
       "        text-align: right;\n",
       "    }\n",
       "</style>\n",
       "<table border=\"1\" class=\"dataframe\">\n",
       "  <thead>\n",
       "    <tr style=\"text-align: right;\">\n",
       "      <th></th>\n",
       "      <th>age</th>\n",
       "      <th>sex</th>\n",
       "      <th>cp</th>\n",
       "      <th>trestbps</th>\n",
       "      <th>chol</th>\n",
       "      <th>fbs</th>\n",
       "      <th>restecg</th>\n",
       "      <th>thalach</th>\n",
       "      <th>exang</th>\n",
       "      <th>oldpeak</th>\n",
       "      <th>slope</th>\n",
       "      <th>ca</th>\n",
       "      <th>thal</th>\n",
       "      <th>target</th>\n",
       "    </tr>\n",
       "  </thead>\n",
       "  <tbody>\n",
       "    <tr>\n",
       "      <th>6</th>\n",
       "      <td>56</td>\n",
       "      <td>Female</td>\n",
       "      <td>Atypical angina</td>\n",
       "      <td>140</td>\n",
       "      <td>294</td>\n",
       "      <td>No</td>\n",
       "      <td>Normal</td>\n",
       "      <td>153</td>\n",
       "      <td>No</td>\n",
       "      <td>1.3</td>\n",
       "      <td>Flat</td>\n",
       "      <td>Mild</td>\n",
       "      <td>Reversible defect</td>\n",
       "      <td>Yes</td>\n",
       "    </tr>\n",
       "    <tr>\n",
       "      <th>136</th>\n",
       "      <td>60</td>\n",
       "      <td>Female</td>\n",
       "      <td>Non-anginal pain</td>\n",
       "      <td>120</td>\n",
       "      <td>178</td>\n",
       "      <td>Yes</td>\n",
       "      <td>Abnormal</td>\n",
       "      <td>96</td>\n",
       "      <td>No</td>\n",
       "      <td>0.0</td>\n",
       "      <td>Downsloping</td>\n",
       "      <td>Mild</td>\n",
       "      <td>Reversible defect</td>\n",
       "      <td>Yes</td>\n",
       "    </tr>\n",
       "    <tr>\n",
       "      <th>113</th>\n",
       "      <td>43</td>\n",
       "      <td>Male</td>\n",
       "      <td>Typical angina</td>\n",
       "      <td>110</td>\n",
       "      <td>211</td>\n",
       "      <td>No</td>\n",
       "      <td>Abnormal</td>\n",
       "      <td>161</td>\n",
       "      <td>No</td>\n",
       "      <td>0.0</td>\n",
       "      <td>Downsloping</td>\n",
       "      <td>Mild</td>\n",
       "      <td>Extra Defect</td>\n",
       "      <td>Yes</td>\n",
       "    </tr>\n",
       "    <tr>\n",
       "      <th>267</th>\n",
       "      <td>49</td>\n",
       "      <td>Male</td>\n",
       "      <td>Non-anginal pain</td>\n",
       "      <td>118</td>\n",
       "      <td>149</td>\n",
       "      <td>No</td>\n",
       "      <td>Normal</td>\n",
       "      <td>126</td>\n",
       "      <td>No</td>\n",
       "      <td>0.8</td>\n",
       "      <td>Downsloping</td>\n",
       "      <td>Moderate Severe</td>\n",
       "      <td>Reversible defect</td>\n",
       "      <td>No</td>\n",
       "    </tr>\n",
       "    <tr>\n",
       "      <th>227</th>\n",
       "      <td>35</td>\n",
       "      <td>Male</td>\n",
       "      <td>Typical angina</td>\n",
       "      <td>120</td>\n",
       "      <td>198</td>\n",
       "      <td>No</td>\n",
       "      <td>Abnormal</td>\n",
       "      <td>130</td>\n",
       "      <td>Yes</td>\n",
       "      <td>1.6</td>\n",
       "      <td>Flat</td>\n",
       "      <td>Mild</td>\n",
       "      <td>Extra Defect</td>\n",
       "      <td>No</td>\n",
       "    </tr>\n",
       "    <tr>\n",
       "      <th>219</th>\n",
       "      <td>48</td>\n",
       "      <td>Male</td>\n",
       "      <td>Typical angina</td>\n",
       "      <td>130</td>\n",
       "      <td>256</td>\n",
       "      <td>Yes</td>\n",
       "      <td>Normal</td>\n",
       "      <td>150</td>\n",
       "      <td>Yes</td>\n",
       "      <td>0.0</td>\n",
       "      <td>Downsloping</td>\n",
       "      <td>Mild Severe</td>\n",
       "      <td>Extra Defect</td>\n",
       "      <td>No</td>\n",
       "    </tr>\n",
       "    <tr>\n",
       "      <th>264</th>\n",
       "      <td>54</td>\n",
       "      <td>Male</td>\n",
       "      <td>Typical angina</td>\n",
       "      <td>110</td>\n",
       "      <td>206</td>\n",
       "      <td>No</td>\n",
       "      <td>Normal</td>\n",
       "      <td>108</td>\n",
       "      <td>Yes</td>\n",
       "      <td>0.0</td>\n",
       "      <td>Flat</td>\n",
       "      <td>Moderate</td>\n",
       "      <td>Reversible defect</td>\n",
       "      <td>No</td>\n",
       "    </tr>\n",
       "    <tr>\n",
       "      <th>89</th>\n",
       "      <td>58</td>\n",
       "      <td>Female</td>\n",
       "      <td>Typical angina</td>\n",
       "      <td>100</td>\n",
       "      <td>248</td>\n",
       "      <td>No</td>\n",
       "      <td>Normal</td>\n",
       "      <td>122</td>\n",
       "      <td>No</td>\n",
       "      <td>1.0</td>\n",
       "      <td>Flat</td>\n",
       "      <td>Mild</td>\n",
       "      <td>Reversible defect</td>\n",
       "      <td>Yes</td>\n",
       "    </tr>\n",
       "    <tr>\n",
       "      <th>128</th>\n",
       "      <td>52</td>\n",
       "      <td>Female</td>\n",
       "      <td>Non-anginal pain</td>\n",
       "      <td>136</td>\n",
       "      <td>196</td>\n",
       "      <td>No</td>\n",
       "      <td>Normal</td>\n",
       "      <td>169</td>\n",
       "      <td>No</td>\n",
       "      <td>0.1</td>\n",
       "      <td>Flat</td>\n",
       "      <td>Mild</td>\n",
       "      <td>Reversible defect</td>\n",
       "      <td>Yes</td>\n",
       "    </tr>\n",
       "    <tr>\n",
       "      <th>204</th>\n",
       "      <td>62</td>\n",
       "      <td>Female</td>\n",
       "      <td>Typical angina</td>\n",
       "      <td>160</td>\n",
       "      <td>164</td>\n",
       "      <td>No</td>\n",
       "      <td>Normal</td>\n",
       "      <td>145</td>\n",
       "      <td>No</td>\n",
       "      <td>6.2</td>\n",
       "      <td>Upsloping</td>\n",
       "      <td>Moderate Severe</td>\n",
       "      <td>Extra Defect</td>\n",
       "      <td>No</td>\n",
       "    </tr>\n",
       "  </tbody>\n",
       "</table>\n",
       "</div>"
      ],
      "text/plain": [
       "     age     sex                cp  trestbps  chol  fbs   restecg  thalach  \\\n",
       "6     56  Female   Atypical angina       140   294   No    Normal      153   \n",
       "136   60  Female  Non-anginal pain       120   178  Yes  Abnormal       96   \n",
       "113   43    Male    Typical angina       110   211   No  Abnormal      161   \n",
       "267   49    Male  Non-anginal pain       118   149   No    Normal      126   \n",
       "227   35    Male    Typical angina       120   198   No  Abnormal      130   \n",
       "219   48    Male    Typical angina       130   256  Yes    Normal      150   \n",
       "264   54    Male    Typical angina       110   206   No    Normal      108   \n",
       "89    58  Female    Typical angina       100   248   No    Normal      122   \n",
       "128   52  Female  Non-anginal pain       136   196   No    Normal      169   \n",
       "204   62  Female    Typical angina       160   164   No    Normal      145   \n",
       "\n",
       "    exang  oldpeak        slope               ca               thal target  \n",
       "6      No      1.3         Flat             Mild  Reversible defect    Yes  \n",
       "136    No      0.0  Downsloping             Mild  Reversible defect    Yes  \n",
       "113    No      0.0  Downsloping             Mild       Extra Defect    Yes  \n",
       "267    No      0.8  Downsloping  Moderate Severe  Reversible defect     No  \n",
       "227   Yes      1.6         Flat             Mild       Extra Defect     No  \n",
       "219   Yes      0.0  Downsloping      Mild Severe       Extra Defect     No  \n",
       "264   Yes      0.0         Flat         Moderate  Reversible defect     No  \n",
       "89     No      1.0         Flat             Mild  Reversible defect    Yes  \n",
       "128    No      0.1         Flat             Mild  Reversible defect    Yes  \n",
       "204    No      6.2    Upsloping  Moderate Severe       Extra Defect     No  "
      ]
     },
     "execution_count": 12,
     "metadata": {},
     "output_type": "execute_result"
    }
   ],
   "source": [
    "data.sample(10)"
   ]
  },
  {
   "cell_type": "code",
   "execution_count": 13,
   "metadata": {
    "ExecuteTime": {
     "end_time": "2021-08-09T19:16:18.256190Z",
     "start_time": "2021-08-09T19:16:17.268241Z"
    }
   },
   "outputs": [],
   "source": [
    "# Save visuailization data\n",
    "data.to_csv('Heart_Data.csv')"
   ]
  }
 ],
 "metadata": {
  "hide_input": false,
  "kernelspec": {
   "display_name": "Python 3",
   "language": "python",
   "name": "python3"
  },
  "language_info": {
   "codemirror_mode": {
    "name": "ipython",
    "version": 3
   },
   "file_extension": ".py",
   "mimetype": "text/x-python",
   "name": "python",
   "nbconvert_exporter": "python",
   "pygments_lexer": "ipython3",
   "version": "3.8.3"
  },
  "latex_envs": {
   "LaTeX_envs_menu_present": true,
   "autoclose": false,
   "autocomplete": true,
   "bibliofile": "biblio.bib",
   "cite_by": "apalike",
   "current_citInitial": 1,
   "eqLabelWithNumbers": true,
   "eqNumInitial": 1,
   "hotkeys": {
    "equation": "Ctrl-E",
    "itemize": "Ctrl-I"
   },
   "labels_anchors": false,
   "latex_user_defs": false,
   "report_style_numbering": false,
   "user_envs_cfg": false
  },
  "toc": {
   "base_numbering": 1,
   "nav_menu": {},
   "number_sections": true,
   "sideBar": true,
   "skip_h1_title": false,
   "title_cell": "Table of Contents",
   "title_sidebar": "Contents",
   "toc_cell": true,
   "toc_position": {},
   "toc_section_display": true,
   "toc_window_display": false
  }
 },
 "nbformat": 4,
 "nbformat_minor": 4
}
